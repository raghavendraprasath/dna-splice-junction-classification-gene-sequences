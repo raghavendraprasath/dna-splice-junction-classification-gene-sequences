{
  "nbformat": 4,
  "nbformat_minor": 0,
  "metadata": {
    "colab": {
      "provenance": []
    },
    "kernelspec": {
      "name": "python3",
      "display_name": "Python 3"
    },
    "language_info": {
      "name": "python"
    }
  },
  "cells": [
    {
      "cell_type": "code",
      "execution_count": 1,
      "metadata": {
        "colab": {
          "base_uri": "https://localhost:8080/"
        },
        "id": "5YaRPHCoQDkU",
        "outputId": "1dfe9a5d-7736-448b-e251-ddbbfaaf5a64"
      },
      "outputs": [
        {
          "output_type": "stream",
          "name": "stdout",
          "text": [
            "Collecting ucimlrepo\n",
            "  Downloading ucimlrepo-0.0.7-py3-none-any.whl.metadata (5.5 kB)\n",
            "Requirement already satisfied: pandas>=1.0.0 in /usr/local/lib/python3.11/dist-packages (from ucimlrepo) (2.2.2)\n",
            "Requirement already satisfied: certifi>=2020.12.5 in /usr/local/lib/python3.11/dist-packages (from ucimlrepo) (2025.1.31)\n",
            "Requirement already satisfied: numpy>=1.23.2 in /usr/local/lib/python3.11/dist-packages (from pandas>=1.0.0->ucimlrepo) (1.26.4)\n",
            "Requirement already satisfied: python-dateutil>=2.8.2 in /usr/local/lib/python3.11/dist-packages (from pandas>=1.0.0->ucimlrepo) (2.8.2)\n",
            "Requirement already satisfied: pytz>=2020.1 in /usr/local/lib/python3.11/dist-packages (from pandas>=1.0.0->ucimlrepo) (2025.1)\n",
            "Requirement already satisfied: tzdata>=2022.7 in /usr/local/lib/python3.11/dist-packages (from pandas>=1.0.0->ucimlrepo) (2025.1)\n",
            "Requirement already satisfied: six>=1.5 in /usr/local/lib/python3.11/dist-packages (from python-dateutil>=2.8.2->pandas>=1.0.0->ucimlrepo) (1.17.0)\n",
            "Downloading ucimlrepo-0.0.7-py3-none-any.whl (8.0 kB)\n",
            "Installing collected packages: ucimlrepo\n",
            "Successfully installed ucimlrepo-0.0.7\n"
          ]
        }
      ],
      "source": [
        "!pip install ucimlrepo"
      ]
    },
    {
      "cell_type": "code",
      "source": [
        "from ucimlrepo import fetch_ucirepo\n",
        "\n",
        "# Fetch dataset\n",
        "dataset = fetch_ucirepo(id=69)\n",
        "\n",
        "# Extract features and target labels\n",
        "X = dataset.data.features  # DNA sequences\n",
        "y = dataset.data.targets   # Labels (EI, IE, N)\n",
        "\n",
        "# Display metadata and variables information\n",
        "print(dataset.metadata)\n",
        "print(dataset.variables)\n"
      ],
      "metadata": {
        "colab": {
          "base_uri": "https://localhost:8080/"
        },
        "id": "1Y3i4Mc5Q7NN",
        "outputId": "cda7b320-41d2-420d-f11e-514c6f39a9b8"
      },
      "execution_count": 2,
      "outputs": [
        {
          "output_type": "stream",
          "name": "stdout",
          "text": [
            "{'uci_id': 69, 'name': 'Molecular Biology (Splice-junction Gene Sequences)', 'repository_url': 'https://archive.ics.uci.edu/dataset/69/molecular+biology+splice+junction+gene+sequences', 'data_url': 'https://archive.ics.uci.edu/static/public/69/data.csv', 'abstract': 'Primate splice-junction gene sequences (DNA) with associated imperfect domain theory', 'area': 'Biology', 'tasks': ['Classification'], 'characteristics': ['Sequential', 'Domain-Theory'], 'num_instances': 3190, 'num_features': 60, 'feature_types': ['Categorical'], 'demographics': [], 'target_col': ['class'], 'index_col': ['instancename'], 'has_missing_values': 'no', 'missing_values_symbol': None, 'year_of_dataset_creation': 1991, 'last_updated': 'Mon Mar 04 2024', 'dataset_doi': '10.24432/C5M888', 'creators': [], 'intro_paper': None, 'additional_info': {'summary': 'Problem Description: \\r\\n      \\r\\nSplice junctions are points on a DNA sequence at which `superfluous\\' DNA is removed during the process of protein creation in higher organisms.  The problem posed in this dataset is to recognize, given a sequence of DNA, the boundaries between exons (the parts of the DNA sequence retained after splicing) and introns (the parts of the DNA sequence that are spliced out). This problem consists of two subtasks: recognizing exon/intron boundaries (referred to as EI sites), and recognizing intron/exon boundaries (IE sites). (In the biological community, IE borders are referred to a ``acceptors\\'\\' while EI borders are referred to as ``donors\\'\\'.)\\r\\n\\r\\nThis dataset has been developed to help evaluate a \"hybrid\" learning algorithm (KBANN) that uses examples to inductively refine preexisting knowledge.  Using a \"ten-fold cross-validation\" methodology on 1000 examples randomly selected from the complete set of 3190, the following  error rates were produced by various ML algorithms (all experiments run at the Univ of Wisconsin, sometimes with local implementations of published algorithms). \\r\\n\\r\\nSystem -- Neither -- EI -- IE\\r\\n---------------------------------------------------\\r\\nKBANN -- 4.62 -- 7.56 --  8.47\\r\\nBACKPROP -- 5.29 --  5.74 -- 10.75\\r\\nPEBLS -- 6.86 -- 8.18 -- 7.55\\r\\nPERCEPTRON -- 3.99 -- 16.32 -- 17.41\\r\\nID3 -- 8.84 -- 10.58 -- 13.99\\r\\nCOBWEB  -- 11.80 -- 15.04 -- 9.46\\r\\nNear. Neighbor -- 31.11 -- 11.65 -- 9.09', 'purpose': None, 'funded_by': None, 'instances_represent': None, 'recommended_data_splits': None, 'sensitive_data': None, 'preprocessing_description': None, 'variable_info': '1.   One of {n ei ie}, indicating the class.\\r\\n2.   The instance name.\\r\\n3-62.   The remaining 60 fields are the sequence, starting at position -30 and ending at position +30. Each of these fields is almost always filled by one of {a, g, t, c}. Other characters indicate ambiguity among the standard characters according to the following table:\\r\\n\\t\\t\\t\\r\\ncharacter: meaning\\r\\nD:  A or G or T\\r\\nN:  A or G or C or T\\r\\nS:  C or G\\r\\nR:  A or G', 'citation': None}}\n",
            "            name     role         type demographic description units  \\\n",
            "0          class   Target  Categorical        None        None  None   \n",
            "1   instancename       ID  Categorical        None        None  None   \n",
            "2          Base1  Feature  Categorical        None        None  None   \n",
            "3          Base2  Feature  Categorical        None        None  None   \n",
            "4          Base3  Feature  Categorical        None        None  None   \n",
            "..           ...      ...          ...         ...         ...   ...   \n",
            "57        Base56  Feature  Categorical        None        None  None   \n",
            "58        Base57  Feature  Categorical        None        None  None   \n",
            "59        Base58  Feature  Categorical        None        None  None   \n",
            "60        Base59  Feature  Categorical        None        None  None   \n",
            "61        Base60  Feature  Categorical        None        None  None   \n",
            "\n",
            "   missing_values  \n",
            "0              no  \n",
            "1              no  \n",
            "2              no  \n",
            "3              no  \n",
            "4              no  \n",
            "..            ...  \n",
            "57             no  \n",
            "58             no  \n",
            "59             no  \n",
            "60             no  \n",
            "61             no  \n",
            "\n",
            "[62 rows x 7 columns]\n"
          ]
        }
      ]
    },
    {
      "cell_type": "code",
      "source": [
        "import pandas as pd\n",
        "import numpy as np\n",
        "\n",
        "# Convert to Pandas DataFrame\n",
        "df = pd.concat([X, y], axis=1)\n",
        "\n",
        "# Display dataset\n",
        "df.head()\n"
      ],
      "metadata": {
        "colab": {
          "base_uri": "https://localhost:8080/",
          "height": 235
        },
        "id": "hSCGr3GgReyr",
        "outputId": "4551346e-b2dc-478c-f1e5-8ae2dca4a5d0"
      },
      "execution_count": 3,
      "outputs": [
        {
          "output_type": "execute_result",
          "data": {
            "text/plain": [
              "  Base1 Base2 Base3 Base4 Base5 Base6 Base7 Base8 Base9 Base10  ... Base52  \\\n",
              "0     C     C     A     G     C     T     G     C     A      T  ...      G   \n",
              "1     A     G     A     C     C     C     G     C     C      G  ...      T   \n",
              "2     G     A     G     G     T     G     A     A     G      G  ...      A   \n",
              "3     G     G     G     C     T     G     C     G     T      T  ...      G   \n",
              "4     G     C     T     C     A     G     C     C     C      C  ...      C   \n",
              "\n",
              "  Base53 Base54 Base55 Base56 Base57 Base58 Base59 Base60 class  \n",
              "0      C      C      A      G      T      C      T      G    EI  \n",
              "1      G      C      C      C      C      C      G      C    EI  \n",
              "2      C      G      G      G      G      A      T      G    EI  \n",
              "3      T      T      T      T      C      C      C      C    EI  \n",
              "4      T      T      G      A      C      C      C      T    EI  \n",
              "\n",
              "[5 rows x 61 columns]"
            ],
            "text/html": [
              "\n",
              "  <div id=\"df-dc00c51c-5faf-4621-bc4f-fc0a417dc00a\" class=\"colab-df-container\">\n",
              "    <div>\n",
              "<style scoped>\n",
              "    .dataframe tbody tr th:only-of-type {\n",
              "        vertical-align: middle;\n",
              "    }\n",
              "\n",
              "    .dataframe tbody tr th {\n",
              "        vertical-align: top;\n",
              "    }\n",
              "\n",
              "    .dataframe thead th {\n",
              "        text-align: right;\n",
              "    }\n",
              "</style>\n",
              "<table border=\"1\" class=\"dataframe\">\n",
              "  <thead>\n",
              "    <tr style=\"text-align: right;\">\n",
              "      <th></th>\n",
              "      <th>Base1</th>\n",
              "      <th>Base2</th>\n",
              "      <th>Base3</th>\n",
              "      <th>Base4</th>\n",
              "      <th>Base5</th>\n",
              "      <th>Base6</th>\n",
              "      <th>Base7</th>\n",
              "      <th>Base8</th>\n",
              "      <th>Base9</th>\n",
              "      <th>Base10</th>\n",
              "      <th>...</th>\n",
              "      <th>Base52</th>\n",
              "      <th>Base53</th>\n",
              "      <th>Base54</th>\n",
              "      <th>Base55</th>\n",
              "      <th>Base56</th>\n",
              "      <th>Base57</th>\n",
              "      <th>Base58</th>\n",
              "      <th>Base59</th>\n",
              "      <th>Base60</th>\n",
              "      <th>class</th>\n",
              "    </tr>\n",
              "  </thead>\n",
              "  <tbody>\n",
              "    <tr>\n",
              "      <th>0</th>\n",
              "      <td>C</td>\n",
              "      <td>C</td>\n",
              "      <td>A</td>\n",
              "      <td>G</td>\n",
              "      <td>C</td>\n",
              "      <td>T</td>\n",
              "      <td>G</td>\n",
              "      <td>C</td>\n",
              "      <td>A</td>\n",
              "      <td>T</td>\n",
              "      <td>...</td>\n",
              "      <td>G</td>\n",
              "      <td>C</td>\n",
              "      <td>C</td>\n",
              "      <td>A</td>\n",
              "      <td>G</td>\n",
              "      <td>T</td>\n",
              "      <td>C</td>\n",
              "      <td>T</td>\n",
              "      <td>G</td>\n",
              "      <td>EI</td>\n",
              "    </tr>\n",
              "    <tr>\n",
              "      <th>1</th>\n",
              "      <td>A</td>\n",
              "      <td>G</td>\n",
              "      <td>A</td>\n",
              "      <td>C</td>\n",
              "      <td>C</td>\n",
              "      <td>C</td>\n",
              "      <td>G</td>\n",
              "      <td>C</td>\n",
              "      <td>C</td>\n",
              "      <td>G</td>\n",
              "      <td>...</td>\n",
              "      <td>T</td>\n",
              "      <td>G</td>\n",
              "      <td>C</td>\n",
              "      <td>C</td>\n",
              "      <td>C</td>\n",
              "      <td>C</td>\n",
              "      <td>C</td>\n",
              "      <td>G</td>\n",
              "      <td>C</td>\n",
              "      <td>EI</td>\n",
              "    </tr>\n",
              "    <tr>\n",
              "      <th>2</th>\n",
              "      <td>G</td>\n",
              "      <td>A</td>\n",
              "      <td>G</td>\n",
              "      <td>G</td>\n",
              "      <td>T</td>\n",
              "      <td>G</td>\n",
              "      <td>A</td>\n",
              "      <td>A</td>\n",
              "      <td>G</td>\n",
              "      <td>G</td>\n",
              "      <td>...</td>\n",
              "      <td>A</td>\n",
              "      <td>C</td>\n",
              "      <td>G</td>\n",
              "      <td>G</td>\n",
              "      <td>G</td>\n",
              "      <td>G</td>\n",
              "      <td>A</td>\n",
              "      <td>T</td>\n",
              "      <td>G</td>\n",
              "      <td>EI</td>\n",
              "    </tr>\n",
              "    <tr>\n",
              "      <th>3</th>\n",
              "      <td>G</td>\n",
              "      <td>G</td>\n",
              "      <td>G</td>\n",
              "      <td>C</td>\n",
              "      <td>T</td>\n",
              "      <td>G</td>\n",
              "      <td>C</td>\n",
              "      <td>G</td>\n",
              "      <td>T</td>\n",
              "      <td>T</td>\n",
              "      <td>...</td>\n",
              "      <td>G</td>\n",
              "      <td>T</td>\n",
              "      <td>T</td>\n",
              "      <td>T</td>\n",
              "      <td>T</td>\n",
              "      <td>C</td>\n",
              "      <td>C</td>\n",
              "      <td>C</td>\n",
              "      <td>C</td>\n",
              "      <td>EI</td>\n",
              "    </tr>\n",
              "    <tr>\n",
              "      <th>4</th>\n",
              "      <td>G</td>\n",
              "      <td>C</td>\n",
              "      <td>T</td>\n",
              "      <td>C</td>\n",
              "      <td>A</td>\n",
              "      <td>G</td>\n",
              "      <td>C</td>\n",
              "      <td>C</td>\n",
              "      <td>C</td>\n",
              "      <td>C</td>\n",
              "      <td>...</td>\n",
              "      <td>C</td>\n",
              "      <td>T</td>\n",
              "      <td>T</td>\n",
              "      <td>G</td>\n",
              "      <td>A</td>\n",
              "      <td>C</td>\n",
              "      <td>C</td>\n",
              "      <td>C</td>\n",
              "      <td>T</td>\n",
              "      <td>EI</td>\n",
              "    </tr>\n",
              "  </tbody>\n",
              "</table>\n",
              "<p>5 rows × 61 columns</p>\n",
              "</div>\n",
              "    <div class=\"colab-df-buttons\">\n",
              "\n",
              "  <div class=\"colab-df-container\">\n",
              "    <button class=\"colab-df-convert\" onclick=\"convertToInteractive('df-dc00c51c-5faf-4621-bc4f-fc0a417dc00a')\"\n",
              "            title=\"Convert this dataframe to an interactive table.\"\n",
              "            style=\"display:none;\">\n",
              "\n",
              "  <svg xmlns=\"http://www.w3.org/2000/svg\" height=\"24px\" viewBox=\"0 -960 960 960\">\n",
              "    <path d=\"M120-120v-720h720v720H120Zm60-500h600v-160H180v160Zm220 220h160v-160H400v160Zm0 220h160v-160H400v160ZM180-400h160v-160H180v160Zm440 0h160v-160H620v160ZM180-180h160v-160H180v160Zm440 0h160v-160H620v160Z\"/>\n",
              "  </svg>\n",
              "    </button>\n",
              "\n",
              "  <style>\n",
              "    .colab-df-container {\n",
              "      display:flex;\n",
              "      gap: 12px;\n",
              "    }\n",
              "\n",
              "    .colab-df-convert {\n",
              "      background-color: #E8F0FE;\n",
              "      border: none;\n",
              "      border-radius: 50%;\n",
              "      cursor: pointer;\n",
              "      display: none;\n",
              "      fill: #1967D2;\n",
              "      height: 32px;\n",
              "      padding: 0 0 0 0;\n",
              "      width: 32px;\n",
              "    }\n",
              "\n",
              "    .colab-df-convert:hover {\n",
              "      background-color: #E2EBFA;\n",
              "      box-shadow: 0px 1px 2px rgba(60, 64, 67, 0.3), 0px 1px 3px 1px rgba(60, 64, 67, 0.15);\n",
              "      fill: #174EA6;\n",
              "    }\n",
              "\n",
              "    .colab-df-buttons div {\n",
              "      margin-bottom: 4px;\n",
              "    }\n",
              "\n",
              "    [theme=dark] .colab-df-convert {\n",
              "      background-color: #3B4455;\n",
              "      fill: #D2E3FC;\n",
              "    }\n",
              "\n",
              "    [theme=dark] .colab-df-convert:hover {\n",
              "      background-color: #434B5C;\n",
              "      box-shadow: 0px 1px 3px 1px rgba(0, 0, 0, 0.15);\n",
              "      filter: drop-shadow(0px 1px 2px rgba(0, 0, 0, 0.3));\n",
              "      fill: #FFFFFF;\n",
              "    }\n",
              "  </style>\n",
              "\n",
              "    <script>\n",
              "      const buttonEl =\n",
              "        document.querySelector('#df-dc00c51c-5faf-4621-bc4f-fc0a417dc00a button.colab-df-convert');\n",
              "      buttonEl.style.display =\n",
              "        google.colab.kernel.accessAllowed ? 'block' : 'none';\n",
              "\n",
              "      async function convertToInteractive(key) {\n",
              "        const element = document.querySelector('#df-dc00c51c-5faf-4621-bc4f-fc0a417dc00a');\n",
              "        const dataTable =\n",
              "          await google.colab.kernel.invokeFunction('convertToInteractive',\n",
              "                                                    [key], {});\n",
              "        if (!dataTable) return;\n",
              "\n",
              "        const docLinkHtml = 'Like what you see? Visit the ' +\n",
              "          '<a target=\"_blank\" href=https://colab.research.google.com/notebooks/data_table.ipynb>data table notebook</a>'\n",
              "          + ' to learn more about interactive tables.';\n",
              "        element.innerHTML = '';\n",
              "        dataTable['output_type'] = 'display_data';\n",
              "        await google.colab.output.renderOutput(dataTable, element);\n",
              "        const docLink = document.createElement('div');\n",
              "        docLink.innerHTML = docLinkHtml;\n",
              "        element.appendChild(docLink);\n",
              "      }\n",
              "    </script>\n",
              "  </div>\n",
              "\n",
              "\n",
              "<div id=\"df-bb80dbb3-2e20-4fe3-80d8-75ee28edf791\">\n",
              "  <button class=\"colab-df-quickchart\" onclick=\"quickchart('df-bb80dbb3-2e20-4fe3-80d8-75ee28edf791')\"\n",
              "            title=\"Suggest charts\"\n",
              "            style=\"display:none;\">\n",
              "\n",
              "<svg xmlns=\"http://www.w3.org/2000/svg\" height=\"24px\"viewBox=\"0 0 24 24\"\n",
              "     width=\"24px\">\n",
              "    <g>\n",
              "        <path d=\"M19 3H5c-1.1 0-2 .9-2 2v14c0 1.1.9 2 2 2h14c1.1 0 2-.9 2-2V5c0-1.1-.9-2-2-2zM9 17H7v-7h2v7zm4 0h-2V7h2v10zm4 0h-2v-4h2v4z\"/>\n",
              "    </g>\n",
              "</svg>\n",
              "  </button>\n",
              "\n",
              "<style>\n",
              "  .colab-df-quickchart {\n",
              "      --bg-color: #E8F0FE;\n",
              "      --fill-color: #1967D2;\n",
              "      --hover-bg-color: #E2EBFA;\n",
              "      --hover-fill-color: #174EA6;\n",
              "      --disabled-fill-color: #AAA;\n",
              "      --disabled-bg-color: #DDD;\n",
              "  }\n",
              "\n",
              "  [theme=dark] .colab-df-quickchart {\n",
              "      --bg-color: #3B4455;\n",
              "      --fill-color: #D2E3FC;\n",
              "      --hover-bg-color: #434B5C;\n",
              "      --hover-fill-color: #FFFFFF;\n",
              "      --disabled-bg-color: #3B4455;\n",
              "      --disabled-fill-color: #666;\n",
              "  }\n",
              "\n",
              "  .colab-df-quickchart {\n",
              "    background-color: var(--bg-color);\n",
              "    border: none;\n",
              "    border-radius: 50%;\n",
              "    cursor: pointer;\n",
              "    display: none;\n",
              "    fill: var(--fill-color);\n",
              "    height: 32px;\n",
              "    padding: 0;\n",
              "    width: 32px;\n",
              "  }\n",
              "\n",
              "  .colab-df-quickchart:hover {\n",
              "    background-color: var(--hover-bg-color);\n",
              "    box-shadow: 0 1px 2px rgba(60, 64, 67, 0.3), 0 1px 3px 1px rgba(60, 64, 67, 0.15);\n",
              "    fill: var(--button-hover-fill-color);\n",
              "  }\n",
              "\n",
              "  .colab-df-quickchart-complete:disabled,\n",
              "  .colab-df-quickchart-complete:disabled:hover {\n",
              "    background-color: var(--disabled-bg-color);\n",
              "    fill: var(--disabled-fill-color);\n",
              "    box-shadow: none;\n",
              "  }\n",
              "\n",
              "  .colab-df-spinner {\n",
              "    border: 2px solid var(--fill-color);\n",
              "    border-color: transparent;\n",
              "    border-bottom-color: var(--fill-color);\n",
              "    animation:\n",
              "      spin 1s steps(1) infinite;\n",
              "  }\n",
              "\n",
              "  @keyframes spin {\n",
              "    0% {\n",
              "      border-color: transparent;\n",
              "      border-bottom-color: var(--fill-color);\n",
              "      border-left-color: var(--fill-color);\n",
              "    }\n",
              "    20% {\n",
              "      border-color: transparent;\n",
              "      border-left-color: var(--fill-color);\n",
              "      border-top-color: var(--fill-color);\n",
              "    }\n",
              "    30% {\n",
              "      border-color: transparent;\n",
              "      border-left-color: var(--fill-color);\n",
              "      border-top-color: var(--fill-color);\n",
              "      border-right-color: var(--fill-color);\n",
              "    }\n",
              "    40% {\n",
              "      border-color: transparent;\n",
              "      border-right-color: var(--fill-color);\n",
              "      border-top-color: var(--fill-color);\n",
              "    }\n",
              "    60% {\n",
              "      border-color: transparent;\n",
              "      border-right-color: var(--fill-color);\n",
              "    }\n",
              "    80% {\n",
              "      border-color: transparent;\n",
              "      border-right-color: var(--fill-color);\n",
              "      border-bottom-color: var(--fill-color);\n",
              "    }\n",
              "    90% {\n",
              "      border-color: transparent;\n",
              "      border-bottom-color: var(--fill-color);\n",
              "    }\n",
              "  }\n",
              "</style>\n",
              "\n",
              "  <script>\n",
              "    async function quickchart(key) {\n",
              "      const quickchartButtonEl =\n",
              "        document.querySelector('#' + key + ' button');\n",
              "      quickchartButtonEl.disabled = true;  // To prevent multiple clicks.\n",
              "      quickchartButtonEl.classList.add('colab-df-spinner');\n",
              "      try {\n",
              "        const charts = await google.colab.kernel.invokeFunction(\n",
              "            'suggestCharts', [key], {});\n",
              "      } catch (error) {\n",
              "        console.error('Error during call to suggestCharts:', error);\n",
              "      }\n",
              "      quickchartButtonEl.classList.remove('colab-df-spinner');\n",
              "      quickchartButtonEl.classList.add('colab-df-quickchart-complete');\n",
              "    }\n",
              "    (() => {\n",
              "      let quickchartButtonEl =\n",
              "        document.querySelector('#df-bb80dbb3-2e20-4fe3-80d8-75ee28edf791 button');\n",
              "      quickchartButtonEl.style.display =\n",
              "        google.colab.kernel.accessAllowed ? 'block' : 'none';\n",
              "    })();\n",
              "  </script>\n",
              "</div>\n",
              "\n",
              "    </div>\n",
              "  </div>\n"
            ],
            "application/vnd.google.colaboratory.intrinsic+json": {
              "type": "dataframe",
              "variable_name": "df"
            }
          },
          "metadata": {},
          "execution_count": 3
        }
      ]
    },
    {
      "cell_type": "code",
      "source": [
        "# Find all unique characters in the DNA sequences\n",
        "unique_chars = set(\"\".join(X.iloc[:, 0]))\n",
        "print(\"Unique Characters in DNA Sequences:\", unique_chars)\n"
      ],
      "metadata": {
        "colab": {
          "base_uri": "https://localhost:8080/"
        },
        "id": "8DuQLwXsSSXS",
        "outputId": "6198aa01-530c-449e-fed4-132a63579dfb"
      },
      "execution_count": 4,
      "outputs": [
        {
          "output_type": "stream",
          "name": "stdout",
          "text": [
            "Unique Characters in DNA Sequences: {'G', 'D', 'C', 'T', 'A'}\n"
          ]
        }
      ]
    },
    {
      "cell_type": "code",
      "source": [
        "print(y.head())  # Check the first few rows\n",
        "print(y.columns)  # Check column names\n"
      ],
      "metadata": {
        "colab": {
          "base_uri": "https://localhost:8080/"
        },
        "id": "n0WlRPp6Sxff",
        "outputId": "d3f1ac52-ed39-42bd-e08f-f96ad7a18340"
      },
      "execution_count": 5,
      "outputs": [
        {
          "output_type": "stream",
          "name": "stdout",
          "text": [
            "  class\n",
            "0    EI\n",
            "1    EI\n",
            "2    EI\n",
            "3    EI\n",
            "4    EI\n",
            "Index(['class'], dtype='object')\n"
          ]
        }
      ]
    },
    {
      "cell_type": "code",
      "source": [
        "y = y.iloc[:, 0]  # Extract first column if it's the only one\n",
        "print(\"Unique Labels in y:\", y.unique())  # Now check unique labels\n"
      ],
      "metadata": {
        "colab": {
          "base_uri": "https://localhost:8080/"
        },
        "id": "2pxRocSKTIEK",
        "outputId": "6fd47fbe-0a09-46c1-d665-452946a86689"
      },
      "execution_count": 6,
      "outputs": [
        {
          "output_type": "stream",
          "name": "stdout",
          "text": [
            "Unique Labels in y: ['EI' 'IE' 'N']\n"
          ]
        }
      ]
    },
    {
      "cell_type": "code",
      "source": [
        "# Define label mapping\n",
        "label_mapping = {'EI': 0, 'IE': 1, 'N': 2}\n",
        "\n",
        "# Convert labels into numeric values\n",
        "y_encoded = np.array([label_mapping[label] for label in y])\n",
        "\n",
        "# Check the first few encoded labels\n",
        "print(\"Encoded Labels:\", y_encoded[:10])\n"
      ],
      "metadata": {
        "colab": {
          "base_uri": "https://localhost:8080/"
        },
        "id": "9H3-sIktTpTz",
        "outputId": "836d0c7a-beea-43d5-c2e2-2220abccfe98"
      },
      "execution_count": 7,
      "outputs": [
        {
          "output_type": "stream",
          "name": "stdout",
          "text": [
            "Encoded Labels: [0 0 0 0 0 0 0 0 0 0]\n"
          ]
        }
      ]
    },
    {
      "cell_type": "code",
      "source": [
        "import numpy as np\n",
        "\n",
        "# Define nucleotide mapping including 'D'\n",
        "nucleotide_mapping = {\n",
        "    'A': [1, 0, 0, 0],\n",
        "    'T': [0, 1, 0, 0],\n",
        "    'C': [0, 0, 1, 0],\n",
        "    'G': [0, 0, 0, 1],\n",
        "    'D': [0.33, 0.33, 0, 0.33]  # 'D' can be A, G, or T (probabilistic encoding)\n",
        "}\n"
      ],
      "metadata": {
        "id": "0BybJAhKT67h"
      },
      "execution_count": 8,
      "outputs": []
    },
    {
      "cell_type": "code",
      "source": [
        "# Function to one-hot encode a DNA sequence\n",
        "def one_hot_encode_sequence(sequence):\n",
        "    encoded_sequence = [nucleotide_mapping.get(nuc, [0, 0, 0, 0]) for nuc in sequence]\n",
        "    return np.array(encoded_sequence).flatten()  # Flatten to 1D vector\n",
        "\n",
        "# Apply one-hot encoding to all DNA sequences\n",
        "X_encoded = np.array([one_hot_encode_sequence(seq) for seq in X.iloc[:, 0]])\n",
        "\n",
        "# Check shape\n",
        "print(f\"Encoded Data Shape: {X_encoded.shape}\")\n"
      ],
      "metadata": {
        "colab": {
          "base_uri": "https://localhost:8080/"
        },
        "id": "mPnbA4eLT9Vl",
        "outputId": "4d4135fe-a576-441e-aff0-781d6feaf878"
      },
      "execution_count": 9,
      "outputs": [
        {
          "output_type": "stream",
          "name": "stdout",
          "text": [
            "Encoded Data Shape: (3190, 4)\n"
          ]
        }
      ]
    },
    {
      "cell_type": "code",
      "source": [
        "import numpy as np\n",
        "\n",
        "# Define nucleotide mapping including 'D'\n",
        "nucleotide_mapping = {\n",
        "    'A': [1, 0, 0, 0],\n",
        "    'T': [0, 1, 0, 0],\n",
        "    'C': [0, 0, 1, 0],\n",
        "    'G': [0, 0, 0, 1],\n",
        "    'D': [0.33, 0.33, 0, 0.33]  # 'D' can be A, G, or T (probabilistic encoding)\n",
        "}\n",
        "\n",
        "# Function to one-hot encode a DNA sequence\n",
        "def one_hot_encode_sequence(sequence):\n",
        "    encoded_sequence = np.array([nucleotide_mapping.get(nuc, [0, 0, 0, 0]) for nuc in sequence])  # Shape (60, 4)\n",
        "    return encoded_sequence.flatten()  # Flatten to (240,)\n",
        "\n",
        "# Convert sequences into NumPy array (Ensuring correct shape)\n",
        "X_encoded = np.stack([one_hot_encode_sequence(seq) for seq in X.iloc[:, 0]])\n",
        "\n",
        "# Check the correct shape\n",
        "print(f\"Encoded Data Shape: {X_encoded.shape}\")  # Expected shape: (3190, 240)\n"
      ],
      "metadata": {
        "colab": {
          "base_uri": "https://localhost:8080/"
        },
        "id": "JZ1WNN-sUkP3",
        "outputId": "4bd309c4-684b-4b27-c950-25971f45a2c6"
      },
      "execution_count": 10,
      "outputs": [
        {
          "output_type": "stream",
          "name": "stdout",
          "text": [
            "Encoded Data Shape: (3190, 4)\n"
          ]
        }
      ]
    },
    {
      "cell_type": "code",
      "source": [
        "# Print column names of X\n",
        "print(\"X columns:\", X.columns)\n",
        "\n",
        "# Print the first few rows of X to verify structure\n",
        "print(\"Sample of X:\\n\", X.head())\n",
        "\n",
        "# If X has multiple columns, specify the correct one manually\n"
      ],
      "metadata": {
        "colab": {
          "base_uri": "https://localhost:8080/"
        },
        "id": "Hz5vhVyOVJrU",
        "outputId": "c3c1d574-27b2-4d40-b389-c4a3958cc73d"
      },
      "execution_count": 11,
      "outputs": [
        {
          "output_type": "stream",
          "name": "stdout",
          "text": [
            "X columns: Index(['Base1', 'Base2', 'Base3', 'Base4', 'Base5', 'Base6', 'Base7', 'Base8',\n",
            "       'Base9', 'Base10', 'Base11', 'Base12', 'Base13', 'Base14', 'Base15',\n",
            "       'Base16', 'Base17', 'Base18', 'Base19', 'Base20', 'Base21', 'Base22',\n",
            "       'Base23', 'Base24', 'Base25', 'Base26', 'Base27', 'Base28', 'Base29',\n",
            "       'Base30', 'Base31', 'Base32', 'Base33', 'Base34', 'Base35', 'Base36',\n",
            "       'Base37', 'Base38', 'Base39', 'Base40', 'Base41', 'Base42', 'Base43',\n",
            "       'Base44', 'Base45', 'Base46', 'Base47', 'Base48', 'Base49', 'Base50',\n",
            "       'Base51', 'Base52', 'Base53', 'Base54', 'Base55', 'Base56', 'Base57',\n",
            "       'Base58', 'Base59', 'Base60'],\n",
            "      dtype='object')\n",
            "Sample of X:\n",
            "   Base1 Base2 Base3 Base4 Base5 Base6 Base7 Base8 Base9 Base10  ... Base51  \\\n",
            "0     C     C     A     G     C     T     G     C     A      T  ...      A   \n",
            "1     A     G     A     C     C     C     G     C     C      G  ...      G   \n",
            "2     G     A     G     G     T     G     A     A     G      G  ...      C   \n",
            "3     G     G     G     C     T     G     C     G     T      T  ...      G   \n",
            "4     G     C     T     C     A     G     C     C     C      C  ...      C   \n",
            "\n",
            "  Base52 Base53 Base54 Base55 Base56 Base57 Base58 Base59 Base60  \n",
            "0      G      C      C      A      G      T      C      T      G  \n",
            "1      T      G      C      C      C      C      C      G      C  \n",
            "2      A      C      G      G      G      G      A      T      G  \n",
            "3      G      T      T      T      T      C      C      C      C  \n",
            "4      C      T      T      G      A      C      C      C      T  \n",
            "\n",
            "[5 rows x 60 columns]\n"
          ]
        }
      ]
    },
    {
      "cell_type": "code",
      "source": [
        "import numpy as np\n",
        "\n",
        "# Define nucleotide mapping including 'D'\n",
        "nucleotide_mapping = {\n",
        "    'A': [1, 0, 0, 0],\n",
        "    'T': [0, 1, 0, 0],\n",
        "    'C': [0, 0, 1, 0],\n",
        "    'G': [0, 0, 0, 1],\n",
        "    'D': [0.33, 0.33, 0, 0.33]  # 'D' can be A, G, or T (probabilistic encoding)\n",
        "}\n",
        "\n",
        "# Function to one-hot encode a DNA sequence\n",
        "def one_hot_encode_sequence(sequence):\n",
        "    encoded_sequence = np.array([nucleotide_mapping.get(nuc, [0, 0, 0, 0]) for nuc in sequence])  # Shape (60, 4)\n",
        "    return encoded_sequence.flatten()  # Flatten to (240,)\n",
        "\n",
        "# **NEW: Combine all 60 columns into a single sequence per row**\n",
        "X_sequences = X.astype(str).agg(''.join, axis=1)  # Convert all columns to strings and join them\n",
        "\n",
        "# Apply encoding to the correct sequence column\n",
        "X_encoded = np.stack([one_hot_encode_sequence(seq) for seq in X_sequences])\n",
        "\n",
        "# Check the new shape\n",
        "print(f\"Encoded Data Shape: {X_encoded.shape}\")  # Expected output: (3190, 240)\n"
      ],
      "metadata": {
        "colab": {
          "base_uri": "https://localhost:8080/"
        },
        "id": "iB3Q2q0qVeAB",
        "outputId": "ef7410ec-8b39-4725-9bc6-035233e01022"
      },
      "execution_count": 12,
      "outputs": [
        {
          "output_type": "stream",
          "name": "stdout",
          "text": [
            "Encoded Data Shape: (3190, 240)\n"
          ]
        }
      ]
    },
    {
      "cell_type": "code",
      "source": [
        "from sklearn.model_selection import train_test_split\n",
        "\n",
        "# Split dataset into training (80%) and testing (20%) sets\n",
        "X_train, X_test, y_train, y_test = train_test_split(X_encoded, y_encoded, test_size=0.2, random_state=42)\n",
        "\n",
        "# Display shapes\n",
        "print(f\"Training Data Shape: {X_train.shape}\")\n",
        "print(f\"Testing Data Shape: {X_test.shape}\")\n"
      ],
      "metadata": {
        "colab": {
          "base_uri": "https://localhost:8080/"
        },
        "id": "aZIaYtGjWI6x",
        "outputId": "c81028b9-218a-4bc9-a44a-86563babb5cd"
      },
      "execution_count": 13,
      "outputs": [
        {
          "output_type": "stream",
          "name": "stdout",
          "text": [
            "Training Data Shape: (2552, 240)\n",
            "Testing Data Shape: (638, 240)\n"
          ]
        }
      ]
    },
    {
      "cell_type": "code",
      "source": [
        "from sklearn.linear_model import LogisticRegression\n",
        "from sklearn.metrics import accuracy_score, precision_score, recall_score, f1_score\n",
        "\n",
        "# Initialize Logistic Regression model\n",
        "log_reg = LogisticRegression(max_iter=1000, random_state=42)\n",
        "\n",
        "# Train the model\n",
        "log_reg.fit(X_train, y_train)\n",
        "\n",
        "# Make predictions\n",
        "y_pred = log_reg.predict(X_test)\n"
      ],
      "metadata": {
        "id": "e3y9T2ezWQqQ"
      },
      "execution_count": 14,
      "outputs": []
    },
    {
      "cell_type": "code",
      "source": [
        "# Compute performance metrics\n",
        "accuracy = accuracy_score(y_test, y_pred)\n",
        "precision = precision_score(y_test, y_pred, average='weighted')\n",
        "recall = recall_score(y_test, y_pred, average='weighted')\n",
        "f1 = f1_score(y_test, y_pred, average='weighted')\n",
        "\n",
        "# Display results\n",
        "print(f\"Logistic Regression Results:\")\n",
        "print(f\"Accuracy: {accuracy:.4f}\")\n",
        "print(f\"Precision: {precision:.4f}\")\n",
        "print(f\"Recall: {recall:.4f}\")\n",
        "print(f\"F1-score: {f1:.4f}\")\n"
      ],
      "metadata": {
        "colab": {
          "base_uri": "https://localhost:8080/"
        },
        "id": "FL14AJ8lWXcj",
        "outputId": "aeb6c299-925b-41bd-e4b7-e2e6775e3ee6"
      },
      "execution_count": 15,
      "outputs": [
        {
          "output_type": "stream",
          "name": "stdout",
          "text": [
            "Logistic Regression Results:\n",
            "Accuracy: 0.9404\n",
            "Precision: 0.9415\n",
            "Recall: 0.9404\n",
            "F1-score: 0.9407\n"
          ]
        }
      ]
    },
    {
      "cell_type": "code",
      "source": [
        "from sklearn.ensemble import RandomForestClassifier\n",
        "\n",
        "# Initialize Random Forest model\n",
        "rf_model = RandomForestClassifier(n_estimators=100, random_state=42)\n",
        "\n",
        "# Train the model\n",
        "rf_model.fit(X_train, y_train)\n",
        "\n",
        "# Make predictions\n",
        "y_pred_rf = rf_model.predict(X_test)\n"
      ],
      "metadata": {
        "id": "1DxXz_ebWhis"
      },
      "execution_count": 16,
      "outputs": []
    },
    {
      "cell_type": "code",
      "source": [
        "# Compute performance metrics\n",
        "accuracy_rf = accuracy_score(y_test, y_pred_rf)\n",
        "precision_rf = precision_score(y_test, y_pred_rf, average='weighted')\n",
        "recall_rf = recall_score(y_test, y_pred_rf, average='weighted')\n",
        "f1_rf = f1_score(y_test, y_pred_rf, average='weighted')\n",
        "\n",
        "# Display results\n",
        "print(f\"Random Forest Results:\")\n",
        "print(f\"Accuracy: {accuracy_rf:.4f}\")\n",
        "print(f\"Precision: {precision_rf:.4f}\")\n",
        "print(f\"Recall: {recall_rf:.4f}\")\n",
        "print(f\"F1-score: {f1_rf:.4f}\")\n"
      ],
      "metadata": {
        "colab": {
          "base_uri": "https://localhost:8080/"
        },
        "id": "cYI6hUwOWnBX",
        "outputId": "25cbf76b-3a08-4864-8126-ff4e9dc51f66"
      },
      "execution_count": 17,
      "outputs": [
        {
          "output_type": "stream",
          "name": "stdout",
          "text": [
            "Random Forest Results:\n",
            "Accuracy: 0.9655\n",
            "Precision: 0.9661\n",
            "Recall: 0.9655\n",
            "F1-score: 0.9656\n"
          ]
        }
      ]
    },
    {
      "cell_type": "code",
      "source": [
        "from sklearn.neural_network import MLPClassifier\n",
        "\n",
        "# Initialize Neural Network (MLP Classifier)\n",
        "mlp_model = MLPClassifier(hidden_layer_sizes=(128, 64), max_iter=500, random_state=42)\n",
        "\n",
        "# Train the model\n",
        "mlp_model.fit(X_train, y_train)\n",
        "\n",
        "# Make predictions\n",
        "y_pred_mlp = mlp_model.predict(X_test)\n"
      ],
      "metadata": {
        "id": "bk4QpMBvWuhQ"
      },
      "execution_count": 18,
      "outputs": []
    },
    {
      "cell_type": "code",
      "source": [
        "# Compute performance metrics\n",
        "accuracy_mlp = accuracy_score(y_test, y_pred_mlp)\n",
        "precision_mlp = precision_score(y_test, y_pred_mlp, average='weighted')\n",
        "recall_mlp = recall_score(y_test, y_pred_mlp, average='weighted')\n",
        "f1_mlp = f1_score(y_test, y_pred_mlp, average='weighted')\n",
        "\n",
        "# Display results\n",
        "print(f\"Neural Network Results:\")\n",
        "print(f\"Accuracy: {accuracy_mlp:.4f}\")\n",
        "print(f\"Precision: {precision_mlp:.4f}\")\n",
        "print(f\"Recall: {recall_mlp:.4f}\")\n",
        "print(f\"F1-score: {f1_mlp:.4f}\")"
      ],
      "metadata": {
        "colab": {
          "base_uri": "https://localhost:8080/"
        },
        "id": "OMjy-rduWysc",
        "outputId": "43f048f0-f949-49c7-adc7-284460fbc46d"
      },
      "execution_count": 19,
      "outputs": [
        {
          "output_type": "stream",
          "name": "stdout",
          "text": [
            "Neural Network Results:\n",
            "Accuracy: 0.9467\n",
            "Precision: 0.9479\n",
            "Recall: 0.9467\n",
            "F1-score: 0.9471\n"
          ]
        }
      ]
    },
    {
      "cell_type": "code",
      "source": [
        "import matplotlib.pyplot as plt\n",
        "import numpy as np\n",
        "\n",
        "# Get feature importances from the Random Forest model\n",
        "feature_importances = rf_model.feature_importances_\n",
        "\n",
        "# Create a plot\n",
        "plt.figure(figsize=(10, 5))\n",
        "plt.bar(range(len(feature_importances)), feature_importances)\n",
        "plt.xlabel(\"Feature Index\")\n",
        "plt.ylabel(\"Feature Importance\")\n",
        "plt.title(\"Feature Importance from Random Forest\")\n",
        "plt.show()\n"
      ],
      "metadata": {
        "colab": {
          "base_uri": "https://localhost:8080/",
          "height": 487
        },
        "id": "0_6th6EpW-z2",
        "outputId": "4147b829-1c13-4f60-cd97-75dbdd4327c3"
      },
      "execution_count": 20,
      "outputs": [
        {
          "output_type": "display_data",
          "data": {
            "text/plain": [
              "<Figure size 1000x500 with 1 Axes>"
            ],
            "image/png": "[encoded data removed]"
          },
          "metadata": {}
        }
      ]
    },
    {
      "cell_type": "code",
      "source": [
        "from sklearn.metrics import confusion_matrix\n",
        "import seaborn as sns\n",
        "\n",
        "# Compute confusion matrix\n",
        "cm = confusion_matrix(y_test, y_pred_rf)\n",
        "\n",
        "# Plot confusion matrix\n",
        "plt.figure(figsize=(6,5))\n",
        "sns.heatmap(cm, annot=True, fmt=\"d\", cmap=\"Blues\", xticklabels=[\"EI\", \"IE\", \"N\"], yticklabels=[\"EI\", \"IE\", \"N\"])\n",
        "plt.xlabel(\"Predicted Label\")\n",
        "plt.ylabel(\"True Label\")\n",
        "plt.title(\"Confusion Matrix - Random Forest\")\n",
        "plt.show()\n"
      ],
      "metadata": {
        "colab": {
          "base_uri": "https://localhost:8080/",
          "height": 487
        },
        "id": "Aqdf18xaXDcr",
        "outputId": "b9a7c307-47c7-4820-d85c-8db4c072b4df"
      },
      "execution_count": 21,
      "outputs": [
        {
          "output_type": "display_data",
          "data": {
            "text/plain": [
              "<Figure size 600x500 with 2 Axes>"
            ],
            "image/png": "[encoded data removed]"
          },
          "metadata": {}
        }
      ]
    },
    {
      "cell_type": "code",
      "source": [
        "from sklearn.model_selection import GridSearchCV\n",
        "\n",
        "# Define hyperparameter grid\n",
        "param_grid = {\n",
        "    'n_estimators': [100, 200, 300],   # Number of trees\n",
        "    'max_depth': [10, 20, None],       # Maximum depth of each tree\n",
        "    'min_samples_split': [2, 5, 10]    # Minimum samples required to split a node\n",
        "}\n",
        "\n",
        "# Perform Grid Search with 5-fold cross-validation\n",
        "grid_search = GridSearchCV(RandomForestClassifier(random_state=42), param_grid, cv=5, scoring='accuracy', n_jobs=-1)\n",
        "grid_search.fit(X_train, y_train)\n",
        "\n",
        "# Get the best hyperparameters\n",
        "best_params = grid_search.best_params_\n",
        "print(\"Best Hyperparameters:\", best_params)\n",
        "\n",
        "# Train a new Random Forest with the best parameters\n",
        "best_rf = RandomForestClassifier(**best_params, random_state=42)\n",
        "best_rf.fit(X_train, y_train)\n",
        "\n",
        "# Make predictions\n",
        "y_pred_rf_opt = best_rf.predict(X_test)\n",
        "\n",
        "# Evaluate optimized Random Forest\n",
        "from sklearn.metrics import accuracy_score, precision_score, recall_score, f1_score\n",
        "\n",
        "accuracy_rf_opt = accuracy_score(y_test, y_pred_rf_opt)\n",
        "precision_rf_opt = precision_score(y_test, y_pred_rf_opt, average='weighted')\n",
        "recall_rf_opt = recall_score(y_test, y_pred_rf_opt, average='weighted')\n",
        "f1_rf_opt = f1_score(y_test, y_pred_rf_opt, average='weighted')\n",
        "\n",
        "# Display new results\n",
        "print(\"\\nOptimized Random Forest Results:\")\n",
        "print(f\"Accuracy: {accuracy_rf_opt:.4f}\")\n",
        "print(f\"Precision: {precision_rf_opt:.4f}\")\n",
        "print(f\"Recall: {recall_rf_opt:.4f}\")\n",
        "print(f\"F1-score: {f1_rf_opt:.4f}\")"
      ],
      "metadata": {
        "colab": {
          "base_uri": "https://localhost:8080/"
        },
        "id": "ELQNEuPmaUdy",
        "outputId": "aab9085d-f121-4403-d84c-f90d360fc0be"
      },
      "execution_count": 22,
      "outputs": [
        {
          "output_type": "stream",
          "name": "stdout",
          "text": [
            "Best Hyperparameters: {'max_depth': 10, 'min_samples_split': 10, 'n_estimators': 200}\n",
            "\n",
            "Optimized Random Forest Results:\n",
            "Accuracy: 0.9655\n",
            "Precision: 0.9663\n",
            "Recall: 0.9655\n",
            "F1-score: 0.9657\n"
          ]
        }
      ]
    },
    {
      "cell_type": "code",
      "source": [
        "import tensorflow as tf\n",
        "from tensorflow.keras.models import Sequential\n",
        "from tensorflow.keras.layers import Dense\n",
        "\n",
        "# Build a Deep Neural Network\n",
        "model = Sequential([\n",
        "    Dense(128, activation='relu', input_shape=(240,)),  # First hidden layer\n",
        "    Dense(64, activation='relu'),  # Second hidden layer\n",
        "    Dense(32, activation='relu'),  # Third hidden layer\n",
        "    Dense(3, activation='softmax')  # Output layer (3 classes: EI, IE, N)\n",
        "])\n",
        "\n",
        "# Compile the model\n",
        "model.compile(optimizer='adam', loss='sparse_categorical_crossentropy', metrics=['accuracy'])\n",
        "\n",
        "# Train the model\n",
        "history = model.fit(X_train, y_train, epochs=30, batch_size=32, validation_data=(X_test, y_test))\n",
        "\n",
        "# Evaluate on test data\n",
        "test_loss, test_acc = model.evaluate(X_test, y_test)\n",
        "print(f\"Deep Learning Model Accuracy: {test_acc:.4f}\")"
      ],
      "metadata": {
        "colab": {
          "base_uri": "https://localhost:8080/"
        },
        "id": "SSLXKkU5bFQR",
        "outputId": "6cb5c052-6541-498b-ddba-5e58d73ccc35"
      },
      "execution_count": 23,
      "outputs": [
        {
          "output_type": "stream",
          "name": "stdout",
          "text": [
            "Epoch 1/30\n"
          ]
        },
        {
          "output_type": "stream",
          "name": "stderr",
          "text": [
            "/usr/local/lib/python3.11/dist-packages/keras/src/layers/core/dense.py:87: UserWarning: Do not pass an `input_shape`/`input_dim` argument to a layer. When using Sequential models, prefer using an `Input(shape)` object as the first layer in the model instead.\n",
            "  super().__init__(activity_regularizer=activity_regularizer, **kwargs)\n"
          ]
        },
        {
          "output_type": "stream",
          "name": "stdout",
          "text": [
            "\u001b[1m80/80\u001b[0m \u001b[32m━━━━━━━━━━━━━━━━━━━━\u001b[0m\u001b[37m\u001b[0m \u001b[1m2s\u001b[0m 6ms/step - accuracy: 0.6239 - loss: 0.8039 - val_accuracy: 0.9248 - val_loss: 0.1986\n",
            "Epoch 2/30\n",
            "\u001b[1m80/80\u001b[0m \u001b[32m━━━━━━━━━━━━━━━━━━━━\u001b[0m\u001b[37m\u001b[0m \u001b[1m0s\u001b[0m 3ms/step - accuracy: 0.9600 - loss: 0.1387 - val_accuracy: 0.9451 - val_loss: 0.1517\n",
            "Epoch 3/30\n",
            "\u001b[1m80/80\u001b[0m \u001b[32m━━━━━━━━━━━━━━━━━━━━\u001b[0m\u001b[37m\u001b[0m \u001b[1m0s\u001b[0m 4ms/step - accuracy: 0.9757 - loss: 0.0851 - val_accuracy: 0.9483 - val_loss: 0.1530\n",
            "Epoch 4/30\n",
            "\u001b[1m80/80\u001b[0m \u001b[32m━━━━━━━━━━━━━━━━━━━━\u001b[0m\u001b[37m\u001b[0m \u001b[1m1s\u001b[0m 3ms/step - accuracy: 0.9902 - loss: 0.0482 - val_accuracy: 0.9483 - val_loss: 0.1672\n",
            "Epoch 5/30\n",
            "\u001b[1m80/80\u001b[0m \u001b[32m━━━━━━━━━━━━━━━━━━━━\u001b[0m\u001b[37m\u001b[0m \u001b[1m1s\u001b[0m 4ms/step - accuracy: 0.9952 - loss: 0.0307 - val_accuracy: 0.9530 - val_loss: 0.1757\n",
            "Epoch 6/30\n",
            "\u001b[1m80/80\u001b[0m \u001b[32m━━━━━━━━━━━━━━━━━━━━\u001b[0m\u001b[37m\u001b[0m \u001b[1m1s\u001b[0m 3ms/step - accuracy: 0.9973 - loss: 0.0167 - val_accuracy: 0.9467 - val_loss: 0.1752\n",
            "Epoch 7/30\n",
            "\u001b[1m80/80\u001b[0m \u001b[32m━━━━━━━━━━━━━━━━━━━━\u001b[0m\u001b[37m\u001b[0m \u001b[1m0s\u001b[0m 4ms/step - accuracy: 0.9992 - loss: 0.0083 - val_accuracy: 0.9498 - val_loss: 0.1826\n",
            "Epoch 8/30\n",
            "\u001b[1m80/80\u001b[0m \u001b[32m━━━━━━━━━━━━━━━━━━━━\u001b[0m\u001b[37m\u001b[0m \u001b[1m0s\u001b[0m 4ms/step - accuracy: 1.0000 - loss: 0.0046 - val_accuracy: 0.9514 - val_loss: 0.2112\n",
            "Epoch 9/30\n",
            "\u001b[1m80/80\u001b[0m \u001b[32m━━━━━━━━━━━━━━━━━━━━\u001b[0m\u001b[37m\u001b[0m \u001b[1m0s\u001b[0m 4ms/step - accuracy: 0.9997 - loss: 0.0047 - val_accuracy: 0.9530 - val_loss: 0.1981\n",
            "Epoch 10/30\n",
            "\u001b[1m80/80\u001b[0m \u001b[32m━━━━━━━━━━━━━━━━━━━━\u001b[0m\u001b[37m\u001b[0m \u001b[1m0s\u001b[0m 4ms/step - accuracy: 0.9999 - loss: 0.0021 - val_accuracy: 0.9545 - val_loss: 0.2115\n",
            "Epoch 11/30\n",
            "\u001b[1m80/80\u001b[0m \u001b[32m━━━━━━━━━━━━━━━━━━━━\u001b[0m\u001b[37m\u001b[0m \u001b[1m0s\u001b[0m 3ms/step - accuracy: 0.9985 - loss: 0.0112 - val_accuracy: 0.9514 - val_loss: 0.2179\n",
            "Epoch 12/30\n",
            "\u001b[1m80/80\u001b[0m \u001b[32m━━━━━━━━━━━━━━━━━━━━\u001b[0m\u001b[37m\u001b[0m \u001b[1m0s\u001b[0m 4ms/step - accuracy: 0.9994 - loss: 0.0048 - val_accuracy: 0.9530 - val_loss: 0.2084\n",
            "Epoch 13/30\n",
            "\u001b[1m80/80\u001b[0m \u001b[32m━━━━━━━━━━━━━━━━━━━━\u001b[0m\u001b[37m\u001b[0m \u001b[1m0s\u001b[0m 6ms/step - accuracy: 0.9996 - loss: 0.0025 - val_accuracy: 0.9498 - val_loss: 0.2234\n",
            "Epoch 14/30\n",
            "\u001b[1m80/80\u001b[0m \u001b[32m━━━━━━━━━━━━━━━━━━━━\u001b[0m\u001b[37m\u001b[0m \u001b[1m0s\u001b[0m 5ms/step - accuracy: 0.9999 - loss: 0.0016 - val_accuracy: 0.9483 - val_loss: 0.2389\n",
            "Epoch 15/30\n",
            "\u001b[1m80/80\u001b[0m \u001b[32m━━━━━━━━━━━━━━━━━━━━\u001b[0m\u001b[37m\u001b[0m \u001b[1m1s\u001b[0m 6ms/step - accuracy: 0.9994 - loss: 0.0035 - val_accuracy: 0.9498 - val_loss: 0.2343\n",
            "Epoch 16/30\n",
            "\u001b[1m80/80\u001b[0m \u001b[32m━━━━━━━━━━━━━━━━━━━━\u001b[0m\u001b[37m\u001b[0m \u001b[1m1s\u001b[0m 6ms/step - accuracy: 0.9982 - loss: 0.0108 - val_accuracy: 0.9514 - val_loss: 0.2323\n",
            "Epoch 17/30\n",
            "\u001b[1m80/80\u001b[0m \u001b[32m━━━━━━━━━━━━━━━━━━━━\u001b[0m\u001b[37m\u001b[0m \u001b[1m0s\u001b[0m 4ms/step - accuracy: 0.9991 - loss: 0.0072 - val_accuracy: 0.9498 - val_loss: 0.2382\n",
            "Epoch 18/30\n",
            "\u001b[1m80/80\u001b[0m \u001b[32m━━━━━━━━━━━━━━━━━━━━\u001b[0m\u001b[37m\u001b[0m \u001b[1m1s\u001b[0m 4ms/step - accuracy: 0.9993 - loss: 0.0036 - val_accuracy: 0.9514 - val_loss: 0.2547\n",
            "Epoch 19/30\n",
            "\u001b[1m80/80\u001b[0m \u001b[32m━━━━━━━━━━━━━━━━━━━━\u001b[0m\u001b[37m\u001b[0m \u001b[1m0s\u001b[0m 4ms/step - accuracy: 0.9993 - loss: 0.0027 - val_accuracy: 0.9545 - val_loss: 0.2345\n",
            "Epoch 20/30\n",
            "\u001b[1m80/80\u001b[0m \u001b[32m━━━━━━━━━━━━━━━━━━━━\u001b[0m\u001b[37m\u001b[0m \u001b[1m0s\u001b[0m 3ms/step - accuracy: 0.9985 - loss: 0.0016 - val_accuracy: 0.9483 - val_loss: 0.2463\n",
            "Epoch 21/30\n",
            "\u001b[1m80/80\u001b[0m \u001b[32m━━━━━━━━━━━━━━━━━━━━\u001b[0m\u001b[37m\u001b[0m \u001b[1m0s\u001b[0m 4ms/step - accuracy: 0.9996 - loss: 0.0021 - val_accuracy: 0.9483 - val_loss: 0.2684\n",
            "Epoch 22/30\n",
            "\u001b[1m80/80\u001b[0m \u001b[32m━━━━━━━━━━━━━━━━━━━━\u001b[0m\u001b[37m\u001b[0m \u001b[1m0s\u001b[0m 4ms/step - accuracy: 0.9996 - loss: 0.0017 - val_accuracy: 0.9483 - val_loss: 0.2545\n",
            "Epoch 23/30\n",
            "\u001b[1m80/80\u001b[0m \u001b[32m━━━━━━━━━━━━━━━━━━━━\u001b[0m\u001b[37m\u001b[0m \u001b[1m0s\u001b[0m 4ms/step - accuracy: 0.9985 - loss: 0.0027 - val_accuracy: 0.9483 - val_loss: 0.2499\n",
            "Epoch 24/30\n",
            "\u001b[1m80/80\u001b[0m \u001b[32m━━━━━━━━━━━━━━━━━━━━\u001b[0m\u001b[37m\u001b[0m \u001b[1m0s\u001b[0m 4ms/step - accuracy: 1.0000 - loss: 3.2078e-04 - val_accuracy: 0.9514 - val_loss: 0.2419\n",
            "Epoch 25/30\n",
            "\u001b[1m80/80\u001b[0m \u001b[32m━━━━━━━━━━━━━━━━━━━━\u001b[0m\u001b[37m\u001b[0m \u001b[1m1s\u001b[0m 4ms/step - accuracy: 1.0000 - loss: 3.9959e-04 - val_accuracy: 0.9483 - val_loss: 0.2714\n",
            "Epoch 26/30\n",
            "\u001b[1m80/80\u001b[0m \u001b[32m━━━━━━━━━━━━━━━━━━━━\u001b[0m\u001b[37m\u001b[0m \u001b[1m0s\u001b[0m 3ms/step - accuracy: 0.9984 - loss: 0.0015 - val_accuracy: 0.9483 - val_loss: 0.2670\n",
            "Epoch 27/30\n",
            "\u001b[1m80/80\u001b[0m \u001b[32m━━━━━━━━━━━━━━━━━━━━\u001b[0m\u001b[37m\u001b[0m \u001b[1m0s\u001b[0m 3ms/step - accuracy: 0.9999 - loss: 5.7770e-04 - val_accuracy: 0.9530 - val_loss: 0.2476\n",
            "Epoch 28/30\n",
            "\u001b[1m80/80\u001b[0m \u001b[32m━━━━━━━━━━━━━━━━━━━━\u001b[0m\u001b[37m\u001b[0m \u001b[1m0s\u001b[0m 4ms/step - accuracy: 0.9991 - loss: 0.0016 - val_accuracy: 0.9530 - val_loss: 0.2546\n",
            "Epoch 29/30\n",
            "\u001b[1m80/80\u001b[0m \u001b[32m━━━━━━━━━━━━━━━━━━━━\u001b[0m\u001b[37m\u001b[0m \u001b[1m0s\u001b[0m 4ms/step - accuracy: 0.9986 - loss: 0.0018 - val_accuracy: 0.9514 - val_loss: 0.2559\n",
            "Epoch 30/30\n",
            "\u001b[1m80/80\u001b[0m \u001b[32m━━━━━━━━━━━━━━━━━━━━\u001b[0m\u001b[37m\u001b[0m \u001b[1m0s\u001b[0m 4ms/step - accuracy: 0.9996 - loss: 6.7668e-04 - val_accuracy: 0.9530 - val_loss: 0.2552\n",
            "\u001b[1m20/20\u001b[0m \u001b[32m━━━━━━━━━━━━━━━━━━━━\u001b[0m\u001b[37m\u001b[0m \u001b[1m0s\u001b[0m 3ms/step - accuracy: 0.9406 - loss: 0.2646 \n",
            "Deep Learning Model Accuracy: 0.9530\n"
          ]
        }
      ]
    },
    {
      "cell_type": "code",
      "source": [
        "import matplotlib.pyplot as plt\n",
        "\n",
        "# Define model names and their accuracy scores\n",
        "models = [\"Logistic Regression\", \"Random Forest\", \"Optimized RF\", \"Neural Network\"]\n",
        "accuracy_scores = [94.04, 96.55, 96.55, 94.67]\n",
        "\n",
        "# Create bar plot\n",
        "plt.figure(figsize=(8,5))\n",
        "plt.bar(models, accuracy_scores, color=['blue', 'green', 'red', 'purple'])\n",
        "plt.xlabel(\"Models\")\n",
        "plt.ylabel(\"Accuracy (%)\")\n",
        "plt.title(\"Model Comparison\")\n",
        "plt.ylim(90, 100)  # Set y-axis limit for better visualization\n",
        "plt.show()\n"
      ],
      "metadata": {
        "id": "KKYTyIMpbyzG",
        "colab": {
          "base_uri": "https://localhost:8080/",
          "height": 487
        },
        "outputId": "fd80dab6-bf8a-4ba2-9b53-c4db34872058"
      },
      "execution_count": 24,
      "outputs": [
        {
          "output_type": "display_data",
          "data": {
            "text/plain": [
              "<Figure size 800x500 with 1 Axes>"
            ],
            "image/png": "[encoded data removed]"
          },
          "metadata": {}
        }
      ]
    },
    {
      "cell_type": "code",
      "source": [
        "# Feature importance plot for Random Forest\n",
        "import numpy as np\n",
        "\n",
        "# Get feature importances from the best Random Forest model\n",
        "feature_importances = best_rf.feature_importances_\n",
        "\n",
        "# Create a plot\n",
        "plt.figure(figsize=(10, 5))\n",
        "plt.bar(range(len(feature_importances)), feature_importances)\n",
        "plt.xlabel(\"Feature Index\")\n",
        "plt.ylabel(\"Feature Importance\")\n",
        "plt.title(\"Feature Importance from Optimized Random Forest\")\n",
        "plt.show()\n"
      ],
      "metadata": {
        "id": "fLA-spbub3yk",
        "colab": {
          "base_uri": "https://localhost:8080/",
          "height": 487
        },
        "outputId": "2d47a14d-5d44-4dbb-ccb0-42a8dac943d4"
      },
      "execution_count": 25,
      "outputs": [
        {
          "output_type": "display_data",
          "data": {
            "text/plain": [
              "<Figure size 1000x500 with 1 Axes>"
            ],
            "image/png": "[encoded data removed]"
          },
          "metadata": {}
        }
      ]
    },
    {
      "cell_type": "code",
      "source": [
        "from sklearn.metrics import confusion_matrix\n",
        "import seaborn as sns\n",
        "\n",
        "# Compute confusion matrix\n",
        "cm = confusion_matrix(y_test, y_pred_rf_opt)\n",
        "\n",
        "# Plot confusion matrix\n",
        "plt.figure(figsize=(6,5))\n",
        "sns.heatmap(cm, annot=True, fmt=\"d\", cmap=\"Blues\", xticklabels=[\"EI\", \"IE\", \"N\"], yticklabels=[\"EI\", \"IE\", \"N\"])\n",
        "plt.xlabel(\"Predicted Label\")\n",
        "plt.ylabel(\"True Label\")\n",
        "plt.title(\"Confusion Matrix - Optimized Random Forest\")\n",
        "plt.show()\n"
      ],
      "metadata": {
        "id": "AknPE17pb61Q",
        "colab": {
          "base_uri": "https://localhost:8080/",
          "height": 487
        },
        "outputId": "0e8f1ea9-edd2-43f7-8643-d3efb3302894"
      },
      "execution_count": 26,
      "outputs": [
        {
          "output_type": "display_data",
          "data": {
            "text/plain": [
              "<Figure size 600x500 with 2 Axes>"
            ],
            "image/png": "[encoded data removed]"
          },
          "metadata": {}
        }
      ]
    },
    {
      "cell_type": "code",
      "source": [
        "import pandas as pd\n",
        "\n",
        "# Create a DataFrame with model performance results\n",
        "model_performance = pd.DataFrame({\n",
        "    \"Model\": [\"Logistic Regression\", \"Random Forest\", \"Optimized RF\", \"Neural Network\"],\n",
        "    \"Accuracy\": [94.04, 96.55, 96.55, 94.67],\n",
        "    \"Precision\": [94.15, 96.61, 96.63, 94.79],\n",
        "    \"Recall\": [94.04, 96.55, 96.55, 94.67],\n",
        "    \"F1-score\": [94.07, 96.56, 96.57, 94.71]\n",
        "})\n",
        "\n",
        "# Save as CSV\n",
        "model_performance.to_csv(\"model_performance.csv\", index=False)\n",
        "\n",
        "print(\"Model performance exported\")"
      ],
      "metadata": {
        "id": "51hQvwni8Eag",
        "colab": {
          "base_uri": "https://localhost:8080/"
        },
        "outputId": "0d655ddf-df4c-4283-ae8e-42d30f5c3366"
      },
      "execution_count": 27,
      "outputs": [
        {
          "output_type": "stream",
          "name": "stdout",
          "text": [
            "Model performance exported\n"
          ]
        }
      ]
    },
    {
      "cell_type": "code",
      "source": [
        "from sklearn.model_selection import train_test_split\n",
        "\n",
        "# Ensure X_encoded and y_encoded exist\n",
        "if 'X_encoded' not in locals() or 'y_encoded' not in locals():\n",
        "    print(\"Error: X_encoded or y_encoded is not found. Ensure your preprocessing is run before this step.\")\n",
        "\n",
        "# Split dataset into training (80%) and testing (20%) sets\n",
        "X_train, X_test, y_train, y_test = train_test_split(X_encoded, y_encoded, test_size=0.2, random_state=42)\n",
        "\n",
        "print(f\"Training Data Shape: {X_train.shape}\")\n",
        "print(f\"Testing Data Shape: {X_test.shape}\")"
      ],
      "metadata": {
        "id": "YTwchuXi8MYZ",
        "colab": {
          "base_uri": "https://localhost:8080/"
        },
        "outputId": "2896b660-f3ff-4a33-866d-940329b9ba38"
      },
      "execution_count": 28,
      "outputs": [
        {
          "output_type": "stream",
          "name": "stdout",
          "text": [
            "Training Data Shape: (2552, 240)\n",
            "Testing Data Shape: (638, 240)\n"
          ]
        }
      ]
    }
  ]
}